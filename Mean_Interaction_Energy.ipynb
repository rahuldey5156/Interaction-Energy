{
 "cells": [
  {
   "cell_type": "code",
   "execution_count": 7,
   "id": "22cea5ef",
   "metadata": {},
   "outputs": [],
   "source": [
    "import pandas as pd\n",
    "import numpy as np"
   ]
  },
  {
   "cell_type": "code",
   "execution_count": 8,
   "id": "e62ced2b",
   "metadata": {},
   "outputs": [],
   "source": [
    "lt = ['01', '02', '03', '04', '05', '06', '07', '08', '09', '10', '11', '12', '13', '14', '15', '16', '17', '18', '19', '20', '21', '22','23','24','25']"
   ]
  },
  {
   "cell_type": "code",
   "execution_count": 9,
   "id": "0a502263",
   "metadata": {},
   "outputs": [],
   "source": [
    "mean_results = {}"
   ]
  },
  {
   "cell_type": "code",
   "execution_count": 10,
   "id": "08f34bb0",
   "metadata": {},
   "outputs": [],
   "source": [
    "file3 = pd.read_csv(\"memb_potential.xvg\", skiprows=24, header=None, sep='\\s+')\n",
    "df3 = pd.DataFrame(file3)"
   ]
  },
  {
   "cell_type": "code",
   "execution_count": 11,
   "id": "3d0f5a6e",
   "metadata": {},
   "outputs": [],
   "source": [
    "for i in lt:\n",
    "    file1 = pd.read_csv(\"%s_protein_memb_potential.xvg\" %(i), skiprows=24, header=None, sep='\\s+')\n",
    "    file2 = pd.read_csv(\"%s_protein_potential.xvg\" %(i), skiprows=24, header=None, sep='\\s+') \n",
    "    df1 = pd.DataFrame(file1)\n",
    "    df2 = pd.DataFrame(file2)\n",
    "    \n",
    "    result = df1.iloc[:,1]-(df2.iloc[:,1]+df3.iloc[:,1])\n",
    "    results = result.mean()\n",
    "    mean_results[f'potential{i}'] = [results]"
   ]
  },
  {
   "cell_type": "code",
   "execution_count": 12,
   "id": "daad0ca6",
   "metadata": {},
   "outputs": [],
   "source": [
    "np.savez('mean_interaction_energy.npz', **mean_results)"
   ]
  }
 ],
 "metadata": {
  "kernelspec": {
   "display_name": "Python 3 (ipykernel)",
   "language": "python",
   "name": "python3"
  },
  "language_info": {
   "codemirror_mode": {
    "name": "ipython",
    "version": 3
   },
   "file_extension": ".py",
   "mimetype": "text/x-python",
   "name": "python",
   "nbconvert_exporter": "python",
   "pygments_lexer": "ipython3",
   "version": "3.11.5"
  }
 },
 "nbformat": 4,
 "nbformat_minor": 5
}
