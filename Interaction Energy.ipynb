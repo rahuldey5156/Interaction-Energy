{
 "cells": [
  {
   "cell_type": "code",
   "execution_count": 1,
   "id": "f96d9117",
   "metadata": {},
   "outputs": [],
   "source": [
    "import pandas as pd\n",
    "import numpy as np\n",
    "import os"
   ]
  },
  {
   "cell_type": "code",
   "execution_count": 2,
   "id": "ddfa2a78",
   "metadata": {},
   "outputs": [],
   "source": [
    "lt = ['01', '02', '03', '04', '05', '06', '07', '08', '09', '10', '11', '12', '13', '14', '15', '16', '17', '18', '19', '20', '21', '22','23','24','25']"
   ]
  },
  {
   "cell_type": "code",
   "execution_count": 3,
   "id": "764dfa33",
   "metadata": {},
   "outputs": [],
   "source": [
    "results = {}"
   ]
  },
  {
   "cell_type": "code",
   "execution_count": 5,
   "id": "4174d432",
   "metadata": {},
   "outputs": [],
   "source": [
    "file3 = pd.read_csv(\"memb_potential.xvg\", skiprows=24, header=None, sep='\\s+')\n",
    "df3 = pd.DataFrame(file3)"
   ]
  },
  {
   "cell_type": "code",
   "execution_count": 6,
   "id": "923389e3",
   "metadata": {},
   "outputs": [],
   "source": [
    "for i in lt:\n",
    "    file1 = pd.read_csv(\"%s_protein_memb_potential.xvg\" %(i), skiprows=24, header=None, sep='\\s+')\n",
    "    file2 = pd.read_csv(\"%s_protein_potential.xvg\" %(i), skiprows=24, header=None, sep='\\s+') \n",
    "    df1 = pd.DataFrame(file1)\n",
    "    df2 = pd.DataFrame(file2)\n",
    "\n",
    "    #Interaction Energy = Protein-Membrane Potential Energy - (Protein Potential Energy + Membrane Potential Energy)\n",
    "    result = df1.iloc[:,1]-(df2.iloc[:,1]+df3.iloc[:,1])\n",
    "    results[f'potential{i}'] = [result]"
   ]
  },
  {
   "cell_type": "code",
   "execution_count": 7,
   "id": "b3342197",
   "metadata": {},
   "outputs": [],
   "source": [
    "np.savez('interaction energy.npz', **results)"
   ]
  }
 ],
 "metadata": {
  "kernelspec": {
   "display_name": "Python 3 (ipykernel)",
   "language": "python",
   "name": "python3"
  },
  "language_info": {
   "codemirror_mode": {
    "name": "ipython",
    "version": 3
   },
   "file_extension": ".py",
   "mimetype": "text/x-python",
   "name": "python",
   "nbconvert_exporter": "python",
   "pygments_lexer": "ipython3",
   "version": "3.11.5"
  }
 },
 "nbformat": 4,
 "nbformat_minor": 5
}
